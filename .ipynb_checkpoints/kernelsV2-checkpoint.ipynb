{
 "cells": [
  {
   "cell_type": "code",
   "execution_count": 2,
   "metadata": {},
   "outputs": [
    {
     "name": "stderr",
     "output_type": "stream",
     "text": [
      "INFO:rdflib:RDFLib Version: 4.2.1\n",
      "INFO:root:Generating grammar tables from /usr/lib/python2.7/lib2to3/Grammar.txt\n",
      "INFO:root:Generating grammar tables from /usr/lib/python2.7/lib2to3/PatternGrammar.txt\n"
     ]
    }
   ],
   "source": [
    "import rdflib\n",
    "import networkx as nx\n",
    "%matplotlib inline"
   ]
  },
  {
   "cell_type": "code",
   "execution_count": 85,
   "metadata": {},
   "outputs": [
    {
     "name": "stdout",
     "output_type": "stream",
     "text": [
      "[rdflib.term.URIRef(u'http://dbpedia.org/resource/Abraham_Lincoln'), rdflib.term.URIRef(u'http://www.w3.org/1999/02/22-rdf-syntax-ns#type'), rdflib.term.URIRef(u'http://dbpedia.org/ontology/OfficeHolder'), rdflib.term.URIRef(u'http://dbpedia.org/ontology/OfficeHolder')]\n",
      "--------------------------------------------------\n",
      "[rdflib.term.URIRef(u'http://dbpedia.org/resource/Abraham_Lincoln'), rdflib.term.URIRef(u'http://dbpedia.org/ontology/termPeriod'), rdflib.term.URIRef(u'http://dbpedia.org/resource/Abraham_Lincoln__1'), rdflib.term.URIRef(u'http://www.w3.org/1999/02/22-rdf-syntax-ns#type'), rdflib.term.URIRef(u'http://dbpedia.org/ontology/TimePeriod'), rdflib.term.URIRef(u'http://dbpedia.org/ontology/TimePeriod')]\n",
      "--------------------------------------------------\n",
      "[rdflib.term.URIRef(u'http://dbpedia.org/resource/Abraham_Lincoln'), rdflib.term.URIRef(u'http://dbpedia.org/ontology/termPeriod'), rdflib.term.URIRef(u'http://dbpedia.org/resource/Abraham_Lincoln__1'), rdflib.term.URIRef(u'http://dbpedia.org/resource/Abraham_Lincoln__1')]\n",
      "--------------------------------------------------\n",
      "[rdflib.term.URIRef(u'http://dbpedia.org/resource/Abraham_Lincoln'), rdflib.term.URIRef(u'http://www.w3.org/1999/02/22-rdf-syntax-ns#type'), rdflib.term.URIRef(u'http://dbpedia.org/ontology/Agent'), rdflib.term.URIRef(u'http://dbpedia.org/ontology/Agent')]\n",
      "--------------------------------------------------\n",
      "[rdflib.term.URIRef(u'http://dbpedia.org/resource/Abraham_Lincoln'), rdflib.term.URIRef(u'http://www.w3.org/1999/02/22-rdf-syntax-ns#type'), rdflib.term.URIRef(u'http://dbpedia.org/ontology/Person'), rdflib.term.URIRef(u'http://dbpedia.org/ontology/Person')]\n",
      "--------------------------------------------------\n",
      "[rdflib.term.URIRef(u'http://dbpedia.org/resource/Abraham_Lincoln__1'), rdflib.term.URIRef(u'http://www.w3.org/1999/02/22-rdf-syntax-ns#type'), rdflib.term.URIRef(u'http://dbpedia.org/ontology/TimePeriod'), rdflib.term.URIRef(u'http://dbpedia.org/ontology/TimePeriod')]\n",
      "--------------------------------------------------\n",
      "[rdflib.term.URIRef(u'http://dbpedia.org/resource/Abraham_Lincoln'), rdflib.term.URIRef(u'http://www.w3.org/1999/02/22-rdf-syntax-ns#type'), rdflib.term.URIRef(u'http://dbpedia.org/ontology/OfficeHolder'), rdflib.term.URIRef(u'http://dbpedia.org/ontology/OfficeHolder')]\n",
      "found\n",
      "[rdflib.term.URIRef(u'http://dbpedia.org/resource/Abraham_Lincoln'), rdflib.term.URIRef(u'http://dbpedia.org/ontology/termPeriod'), rdflib.term.URIRef(u'http://dbpedia.org/resource/Abraham_Lincoln__1'), rdflib.term.URIRef(u'http://www.w3.org/1999/02/22-rdf-syntax-ns#type'), rdflib.term.URIRef(u'http://dbpedia.org/ontology/TimePeriod'), rdflib.term.URIRef(u'http://dbpedia.org/ontology/TimePeriod')]\n",
      "found\n",
      "[rdflib.term.URIRef(u'http://dbpedia.org/resource/Abraham_Lincoln'), rdflib.term.URIRef(u'http://dbpedia.org/ontology/termPeriod'), rdflib.term.URIRef(u'http://dbpedia.org/resource/Abraham_Lincoln__1'), rdflib.term.URIRef(u'http://dbpedia.org/resource/Abraham_Lincoln__1')]\n",
      "found\n",
      "[rdflib.term.URIRef(u'http://dbpedia.org/resource/Abraham_Lincoln'), rdflib.term.URIRef(u'http://www.w3.org/1999/02/22-rdf-syntax-ns#type'), rdflib.term.URIRef(u'http://dbpedia.org/ontology/Agent'), rdflib.term.URIRef(u'http://dbpedia.org/ontology/Agent')]\n",
      "found\n",
      "[rdflib.term.URIRef(u'http://dbpedia.org/resource/Abraham_Lincoln'), rdflib.term.URIRef(u'http://www.w3.org/1999/02/22-rdf-syntax-ns#type'), rdflib.term.URIRef(u'http://dbpedia.org/ontology/Person'), rdflib.term.URIRef(u'http://dbpedia.org/ontology/Person')]\n",
      "found\n",
      "[rdflib.term.URIRef(u'http://dbpedia.org/resource/Abraham_Lincoln__1'), rdflib.term.URIRef(u'http://www.w3.org/1999/02/22-rdf-syntax-ns#type'), rdflib.term.URIRef(u'http://dbpedia.org/ontology/TimePeriod'), rdflib.term.URIRef(u'http://dbpedia.org/ontology/TimePeriod')]\n",
      "found\n"
     ]
    }
   ],
   "source": [
    "# Parse all triples from file and put them in NetworkX DiGraph\n",
    "graph2 = nx.DiGraph()\n",
    "g=rdflib.Graph()\n",
    "g.load('lincoln-abox', format='turtle')\n",
    "for s,p,o in g:      \n",
    "    graph2.add_edge(s, o, name=p)\n",
    "\n",
    "# For our nodes in our newly created DiGraph, we extract type assertions from dbpedia ontology\n",
    "for node in graph2.nodes():\n",
    "    g.load(node)\n",
    "    for s,p,o in g:  \n",
    "        if str(p) == 'http://www.w3.org/1999/02/22-rdf-syntax-ns#type' and 'dbpedia.org/ontology' in str(o):\n",
    "            graph2.add_edge(s, o, name=p)\n",
    "\n",
    "# Extract all paths with max. length = L\n",
    "L = 2\n",
    "paths = []\n",
    "for node in graph2.nodes_iter():\n",
    "    if graph2.out_degree(node):\n",
    "        for path in (nx.all_simple_paths(graph2, node, target, L) for target in graph2.nodes_iter()):\n",
    "            path = list(path)\n",
    "            if path:\n",
    "                path=list(path)[0]\n",
    "                new_path = [path[0]]\n",
    "                for i in range(len(path)-1):\n",
    "                    new_path.append(graph2[path[i]][path[i+1]]['name'])\n",
    "                    new_path.append(path[i+1])\n",
    "                new_path.append(path[-1])\n",
    "                print(new_path)\n",
    "                print('-'*50)\n",
    "                paths.append(new_path)\n",
    "\n",
    "# Can we find one of our paths back in our graph?    \n",
    "test_path = paths[1]\n",
    "for test_path in paths:\n",
    "    found = 1\n",
    "    print(test_path)\n",
    "    current_node = graph2\n",
    "    for i in range(0, len(test_path), 2):\n",
    "        if not test_path[i] in current_node:\n",
    "            found = 0\n",
    "            break\n",
    "    print('found' if found else 'not found')"
   ]
  },
  {
   "cell_type": "code",
   "execution_count": null,
   "metadata": {
    "collapsed": true
   },
   "outputs": [],
   "source": []
  }
 ],
 "metadata": {
  "kernelspec": {
   "display_name": "Python 2",
   "language": "python",
   "name": "python2"
  },
  "language_info": {
   "codemirror_mode": {
    "name": "ipython",
    "version": 2
   },
   "file_extension": ".py",
   "mimetype": "text/x-python",
   "name": "python",
   "nbconvert_exporter": "python",
   "pygments_lexer": "ipython2",
   "version": "2.7.12"
  }
 },
 "nbformat": 4,
 "nbformat_minor": 2
}
