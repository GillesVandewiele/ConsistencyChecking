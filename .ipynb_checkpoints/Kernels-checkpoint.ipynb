{
 "cells": [
  {
   "cell_type": "code",
   "execution_count": 2,
   "metadata": {},
   "outputs": [],
   "source": [
    "import rdflib\n",
    "from igraph import *\n",
    "%matplotlib inline"
   ]
  },
  {
   "cell_type": "code",
   "execution_count": null,
   "metadata": {
    "collapsed": true
   },
   "outputs": [],
   "source": [
    "g=rdflib.Graph()\n",
    "g.load('http://dbpedia.org/resource/Mammal')\n",
    "\n",
    "graph = Graph(directed=True)\n",
    "\n",
    "for s,p,o in g:\n",
    "    try:\n",
    "        graph.vs.find(name=s)\n",
    "    except ValueError:\n",
    "        graph.add_vertex(name=s)    \n",
    "        \n",
    "    try:\n",
    "        graph.vs.find(name=o)\n",
    "    except ValueError:\n",
    "        graph.add_vertex(name=o)\n",
    "        \n",
    "    graph.add_edge(s, o, name=p)\n",
    "    \n",
    "g=rdflib.Graph()\n",
    "g.load('http://dbpedia.org/resource/Bird')\n",
    "\n",
    "graph2 = Graph(directed=True)\n",
    "\n",
    "for s,p,o in g:\n",
    "    try:\n",
    "        graph2.vs.find(name=s)\n",
    "    except ValueError:\n",
    "        graph2.add_vertex(name=s) \n",
    "        \n",
    "    try:\n",
    "        graph2.vs.find(name=o)\n",
    "    except ValueError:\n",
    "        graph2.add_vertex(name=o)\n",
    "        \n",
    "    graph2.add_edge(s, o, name=p)"
   ]
  },
  {
   "cell_type": "code",
   "execution_count": null,
   "metadata": {},
   "outputs": [],
   "source": [
    "plot(graph, layout=None, \n",
    "     vertex_label=[vertex.attributes()['name'].split('/')[-1].encode('utf-8') for vertex in graph.vs],\n",
    "     vertex_label_size=4, \n",
    "     edge_label=[edge.attributes()['name'].split('/')[-1].encode('utf-8') for edge in graph.es],\n",
    "     edge_label_size=4)"
   ]
  },
  {
   "cell_type": "code",
   "execution_count": null,
   "metadata": {
    "collapsed": true
   },
   "outputs": [],
   "source": [
    "plot(graph2, layout=None, \n",
    "     vertex_label=[vertex.attributes()['name'].split('/')[-1].encode('utf-8') for vertex in graph2.vs],\n",
    "     vertex_label_size=4, \n",
    "     edge_label=[edge.attributes()['name'].split('/')[-1].encode('utf-8') for edge in graph2.es],\n",
    "     edge_label_size=4)"
   ]
  },
  {
   "cell_type": "code",
   "execution_count": 33,
   "metadata": {},
   "outputs": [],
   "source": [
    "def named_intersect(graph1, graph2):\n",
    "    A = graph1.copy()\n",
    "    B = graph2.copy() # so removed vertices don't affect original graphs\n",
    "    Anams = set(A.vs['name'])\n",
    "    Bnams = set(B.vs['name'])\n",
    "    A.delete_vertices(Anams - Bnams)\n",
    "    B.delete_vertices(Bnams - Anams)\n",
    "    nams = sorted(Anams & Bnams)\n",
    "#     Aind = [nams.index(nm) for nm in A.vs['name']]\n",
    "#     Bind = [nams.index(nm) for nm in B.vs['name']]\n",
    "#     A = A.permute_vertices(Aind)\n",
    "#     B = B.permute_vertices(Bind)\n",
    "    Z = A & B\n",
    "    Z.vs['name'] = nams\n",
    "    return Z"
   ]
  },
  {
   "cell_type": "code",
   "execution_count": 35,
   "metadata": {},
   "outputs": [
    {
     "data": {
      "image/svg+xml": [
       "<?xml version=\"1.0\" encoding=\"UTF-8\"?>\n",
       "<svg xmlns=\"http://www.w3.org/2000/svg\" xmlns:xlink=\"http://www.w3.org/1999/xlink\" width=\"600pt\" height=\"600pt\" viewBox=\"0 0 600 600\" version=\"1.1\">\n",
       "<g id=\"surface66\">\n",
       "<rect x=\"0\" y=\"0\" width=\"600\" height=\"600\" style=\"fill:rgb(100%,100%,100%);fill-opacity:1;stroke:none;\"/>\n",
       "<path style=\"fill-rule:nonzero;fill:rgb(100%,0%,0%);fill-opacity:1;stroke-width:1;stroke-linecap:butt;stroke-linejoin:miter;stroke:rgb(0%,0%,0%);stroke-opacity:1;stroke-miterlimit:10;\" d=\"M 30 35.394531 C 30 40.914062 25.523438 45.394531 20 45.394531 C 14.476562 45.394531 10 40.914062 10 35.394531 C 10 29.871094 14.476562 25.394531 20 25.394531 C 25.523438 25.394531 30 29.871094 30 35.394531 \"/>\n",
       "<path style=\"fill-rule:nonzero;fill:rgb(100%,0%,0%);fill-opacity:1;stroke-width:1;stroke-linecap:butt;stroke-linejoin:miter;stroke:rgb(0%,0%,0%);stroke-opacity:1;stroke-miterlimit:10;\" d=\"M 574.605469 20 C 574.605469 25.523438 570.128906 30 564.605469 30 C 559.085938 30 554.605469 25.523438 554.605469 20 C 554.605469 14.476562 559.085938 10 564.605469 10 C 570.128906 10 574.605469 14.476562 574.605469 20 \"/>\n",
       "<path style=\"fill-rule:nonzero;fill:rgb(100%,0%,0%);fill-opacity:1;stroke-width:1;stroke-linecap:butt;stroke-linejoin:miter;stroke:rgb(0%,0%,0%);stroke-opacity:1;stroke-miterlimit:10;\" d=\"M 45.394531 580 C 45.394531 585.523438 40.914062 590 35.394531 590 C 29.871094 590 25.394531 585.523438 25.394531 580 C 25.394531 574.476562 29.871094 570 35.394531 570 C 40.914062 570 45.394531 574.476562 45.394531 580 \"/>\n",
       "<path style=\"fill-rule:nonzero;fill:rgb(100%,0%,0%);fill-opacity:1;stroke-width:1;stroke-linecap:butt;stroke-linejoin:miter;stroke:rgb(0%,0%,0%);stroke-opacity:1;stroke-miterlimit:10;\" d=\"M 590 564.605469 C 590 570.128906 585.523438 574.605469 580 574.605469 C 574.476562 574.605469 570 570.128906 570 564.605469 C 570 559.085938 574.476562 554.605469 580 554.605469 C 585.523438 554.605469 590 559.085938 590 564.605469 \"/>\n",
       "</g>\n",
       "</svg>\n"
      ],
      "text/plain": [
       "<igraph.drawing.Plot at 0x7fae54ddbf90>"
      ]
     },
     "execution_count": 35,
     "metadata": {},
     "output_type": "execute_result"
    }
   ],
   "source": [
    "plot(named_intersect(graph, graph2))"
   ]
  },
  {
   "cell_type": "code",
   "execution_count": null,
   "metadata": {
    "collapsed": true
   },
   "outputs": [],
   "source": []
  }
 ],
 "metadata": {
  "kernelspec": {
   "display_name": "Python 2",
   "language": "python",
   "name": "python2"
  },
  "language_info": {
   "codemirror_mode": {
    "name": "ipython",
    "version": 2
   },
   "file_extension": ".py",
   "mimetype": "text/x-python",
   "name": "python",
   "nbconvert_exporter": "python",
   "pygments_lexer": "ipython2",
   "version": "2.7.12"
  }
 },
 "nbformat": 4,
 "nbformat_minor": 2
}
