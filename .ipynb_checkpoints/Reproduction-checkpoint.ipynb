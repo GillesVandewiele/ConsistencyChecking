{
 "cells": [
  {
   "cell_type": "code",
   "execution_count": 32,
   "metadata": {},
   "outputs": [],
   "source": [
    "from decisiontree import DecisionTree\n",
    "from treeconstructor import C45Constructor, CARTConstructor\n",
    "from ensemble import RFClassification\n",
    "\n",
    "import pandas as pd\n",
    "import numpy as np"
   ]
  },
  {
   "cell_type": "code",
   "execution_count": 41,
   "metadata": {},
   "outputs": [],
   "source": [
    "dbpedia_111 = pd.read_csv('datasets/dbpedia2014_dolce_hermit_111_rpk.csv', sep='\\t', index_col=[0]).fillna(0)\n",
    "dbpedia_1111 = pd.read_csv('datasets/dbpedia2014_dolce_hermit_1111_rpk.csv', sep='\\t', index_col=[0]).fillna(0)\n",
    "\n",
    "feature_cols_111 = list(dbpedia_111.drop('Consistent', axis=1).columns)\n",
    "feature_cols_1111 = list(dbpedia_1111.drop('Consistent', axis=1).columns)\n",
    "label_col = 'Consistent'\n",
    "\n",
    "dbpedia_111_train = dbpedia_111.head(int(len(dbpedia_111)*0.8))\n",
    "dbpedia_111_test = dbpedia_111.tail(int(len(dbpedia_111)*0.2))\n",
    "\n",
    "c45 = C45Constructor()\n",
    "cart = CARTConstructor()\n",
    "rf = RFClassification()"
   ]
  },
  {
   "cell_type": "code",
   "execution_count": 42,
   "metadata": {
    "collapsed": true
   },
   "outputs": [],
   "source": [
    "# Dataset Baseline Decision Tree Naive Bayes SVM Random Forest\n",
    "# DBpedia-11 .727 .700 ± .458 600 ± .490 .600 ± .490 .600 ± .490\n",
    "# DBpedia-111 .847 .937 ± .058 .756 ± .101 .946 ± .073 .901 ± .049\n",
    "# DBpedia-1111 .877 .951 ± .016 .856 ± .043 .961 ± .015 .926 ± .017\n",
    "# YAGO-11 .636 .550 ± .472 .850 ± .320 .650 ± .450 .650 ± .450\n",
    "# YAGO-111 .739 .955 ± .061 .805 ± .153 .892 ± .066 .901 ± .064\n",
    "# YAGO-1111 .714 .976 ± .015 .672 ± .056 .929 ± .052 .913 ± .034\n",
    "# schema.org-11 .727 .700 ± .458 .600 ± 0.490 .700 ± .458 .600 ± .490\n",
    "# schema.org-111 .645 .936 ± .071 .730 ± .158 .695 ± .066 .749 ± .182\n",
    "# schema.org-1111 .649 .977 ± .020 .762 ± .066 .778 ± .060 .906 ± .038\n",
    "# GoodRelations-11 .545 .700 ± .458 .700 ± .458 .700 ± .458 .700 ± .458\n",
    "# GoodRelations-111 .604 .901 ± .076 .847 ± 0.129 .901 ± .076 .892 ± .078\n",
    "# GoodRelations-1111 .631 .969 ± .016 .874 ± .027 .945 ± 0.20 .945 ± .027"
   ]
  },
  {
   "cell_type": "code",
   "execution_count": 43,
   "metadata": {},
   "outputs": [
    {
     "name": "stdout",
     "output_type": "stream",
     "text": [
      "0.863636363636\n",
      "0.863636363636\n"
     ]
    }
   ],
   "source": [
    "from sklearn.metrics import accuracy_score\n",
    "\n",
    "tree = c45.construct_classifier(dbpedia_111_train, feature_cols_111, label_col)\n",
    "predictions = tree.evaluate_multiple(dbpedia_111_test.drop('Consistent', axis=1)).astype(int)\n",
    "print(accuracy_score(dbpedia_111_test['Consistent'].astype(int), predictions))\n",
    "\n",
    "tree = cart.construct_classifier(dbpedia_111_train, feature_cols_111, label_col)\n",
    "predictions = tree.evaluate_multiple(dbpedia_111_test.drop('Consistent', axis=1)).astype(int)\n",
    "print(accuracy_score(dbpedia_111_test['Consistent'].astype(int), predictions))"
   ]
  },
  {
   "cell_type": "code",
   "execution_count": 30,
   "metadata": {},
   "outputs": [
    {
     "name": "stderr",
     "output_type": "stream",
     "text": [
      "/usr/local/lib/python2.7/dist-packages/sklearn/gaussian_process/gpr.py:427: UserWarning: fmin_l_bfgs_b terminated abnormally with the  state: {'warnflag': 2, 'task': 'ABNORMAL_TERMINATION_IN_LNSRCH', 'grad': array([ -1.15086268e-05]), 'nit': 5, 'funcalls': 49}\n",
      "  \" state: %s\" % convergence_dict)\n",
      "/usr/local/lib/python2.7/dist-packages/sklearn/gaussian_process/gpr.py:427: UserWarning: fmin_l_bfgs_b terminated abnormally with the  state: {'warnflag': 2, 'task': 'ABNORMAL_TERMINATION_IN_LNSRCH', 'grad': array([ -1.08658701e-05]), 'nit': 5, 'funcalls': 49}\n",
      "  \" state: %s\" % convergence_dict)\n",
      "/usr/local/lib/python2.7/dist-packages/sklearn/gaussian_process/gpr.py:427: UserWarning: fmin_l_bfgs_b terminated abnormally with the  state: {'warnflag': 2, 'task': 'ABNORMAL_TERMINATION_IN_LNSRCH', 'grad': array([ -3.82190124e-05]), 'nit': 5, 'funcalls': 49}\n",
      "  \" state: %s\" % convergence_dict)\n"
     ]
    },
    {
     "name": "stdout",
     "output_type": "stream",
     "text": [
      "0.863636363636\n"
     ]
    }
   ],
   "source": [
    "trees = rf.construct_classifier(dbpedia_111_train, feature_cols_111, label_col)\n",
    "predictions = trees.evaluate_multiple(dbpedia_111_test.drop('Consistent', axis=1)).astype(int)\n",
    "print(accuracy_score(dbpedia_111_test['Consistent'].astype(int), predictions))"
   ]
  },
  {
   "cell_type": "code",
   "execution_count": null,
   "metadata": {
    "collapsed": true
   },
   "outputs": [],
   "source": []
  }
 ],
 "metadata": {
  "kernelspec": {
   "display_name": "Python 2",
   "language": "python",
   "name": "python2"
  },
  "language_info": {
   "codemirror_mode": {
    "name": "ipython",
    "version": 2
   },
   "file_extension": ".py",
   "mimetype": "text/x-python",
   "name": "python",
   "nbconvert_exporter": "python",
   "pygments_lexer": "ipython2",
   "version": "2.7.12"
  }
 },
 "nbformat": 4,
 "nbformat_minor": 2
}
