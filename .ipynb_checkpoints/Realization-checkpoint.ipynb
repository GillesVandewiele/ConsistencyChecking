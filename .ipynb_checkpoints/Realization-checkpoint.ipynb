{
 "cells": [
  {
   "cell_type": "code",
   "execution_count": 1,
   "metadata": {},
   "outputs": [
    {
     "name": "stderr",
     "output_type": "stream",
     "text": [
      "INFO:rdflib:RDFLib Version: 4.2.1\n"
     ]
    }
   ],
   "source": [
    "import rdflib"
   ]
  },
  {
   "cell_type": "code",
   "execution_count": 4,
   "metadata": {},
   "outputs": [],
   "source": [
    "g=rdflib.Graph()"
   ]
  },
  {
   "cell_type": "code",
   "execution_count": 7,
   "metadata": {
    "collapsed": true
   },
   "outputs": [],
   "source": [
    "def extract_data(graph):\n",
    "    new_graph=rdflib.Graph()\n",
    "    for s,p,o in g:\n",
    "        new_graph.add((s,p,o))\n",
    "        subject_graph = rdflib.Graph()\n",
    "        # For our subjects we extract type assertions from dbpedia ontology\n",
    "        subject_graph.load(s)\n",
    "        for s2,p2,o2 in subject_graph: \n",
    "            if p2.encode('utf-8') == 'http://www.w3.org/1999/02/22-rdf-syntax-ns#type' and 'dbpedia.org/ontology' in o2.encode('utf-8'):\n",
    "                new_graph.add((s2,p2,o2))\n",
    "        obj_graph = rdflib.Graph()\n",
    "        # For our subjects we extract type assertions from dbpedia ontology\n",
    "        obj_graph.load(o)\n",
    "        for s2,p2,o2 in obj_graph: \n",
    "            if p2.encode('utf-8') == 'http://www.w3.org/1999/02/22-rdf-syntax-ns#type' and 'dbpedia.org/ontology' in o2.encode('utf-8'):\n",
    "                new_graph.add((s2,p2,o2))\n",
    "        \n",
    "    return new_graph\n",
    "\n",
    "def gen_paths(graph,node,depth,max_depth,all_paths,path):\n",
    "    #print('current depth:',depth,' max depth: ',max_depth)\n",
    "    #print('node: ', node)\n",
    "    if depth<max_depth:\n",
    "        if  'dbpedia.org/ontology' in node.encode('utf-8') or 'dbpedia.org/resource' in node.encode('utf-8'):\n",
    "            for p,o in graph.predicate_objects(node):               \n",
    "                if p.encode('utf-8') == 'http://www.w3.org/1999/02/22-rdf-syntax-ns#type' and 'dbpedia.org/ontology' in o.encode('utf-8'):\n",
    "                    if len(path) == 0:\n",
    "                        #print('  found new subj: ', 'subj_'+str(o))\n",
    "                        all_paths.append('subj_'+str(o))\n",
    "                    else:\n",
    "                        new_path=path+'_'+str(o)\n",
    "                        #print('  found new extended type: ',new_path)\n",
    "                        all_paths.append(new_path)\n",
    "                else:\n",
    "                    #print('    extending: ',path+'_'+p)\n",
    "                    gen_paths(graph,o,depth+1,max_depth,all_paths,path+'_'+str(p))\n",
    "    else:\n",
    "        all_paths.append(path)\n",
    "        "
   ]
  },
  {
   "cell_type": "code",
   "execution_count": 11,
   "metadata": {},
   "outputs": [],
   "source": [
    "g.load('http://swat.cse.lehigh.edu/projects/lubm/University0_0.owl', format='xml')\n",
    "all_paths = []\n",
    "# ext_data = extract_data(g)\n",
    "for s,p,o in g:\n",
    "    gen_paths(g,s,0,2,all_paths,'')"
   ]
  },
  {
   "cell_type": "code",
   "execution_count": 12,
   "metadata": {},
   "outputs": [
    {
     "name": "stdout",
     "output_type": "stream",
     "text": [
      "0\n"
     ]
    }
   ],
   "source": [
    "print(len(all_paths))\n"
   ]
  },
  {
   "cell_type": "code",
   "execution_count": null,
   "metadata": {
    "collapsed": true
   },
   "outputs": [],
   "source": []
  }
 ],
 "metadata": {
  "kernelspec": {
   "display_name": "Python 2",
   "language": "python",
   "name": "python2"
  },
  "language_info": {
   "codemirror_mode": {
    "name": "ipython",
    "version": 2
   },
   "file_extension": ".py",
   "mimetype": "text/x-python",
   "name": "python",
   "nbconvert_exporter": "python",
   "pygments_lexer": "ipython2",
   "version": "2.7.12"
  }
 },
 "nbformat": 4,
 "nbformat_minor": 2
}
