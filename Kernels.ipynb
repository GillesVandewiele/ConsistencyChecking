{
 "cells": [
  {
   "cell_type": "code",
   "execution_count": 2,
   "metadata": {},
   "outputs": [],
   "source": [
    "import rdflib\n",
    "from igraph import *\n",
    "%matplotlib inline"
   ]
  },
  {
   "cell_type": "code",
   "execution_count": 3,
   "metadata": {
    "collapsed": true
   },
   "outputs": [],
   "source": [
    "g=rdflib.Graph()\n",
    "g.load('http://dbpedia.org/resource/Mammal')\n",
    "\n",
    "graph = Graph(directed=True)\n",
    "\n",
    "for s,p,o in g:\n",
    "    try:\n",
    "        graph.vs.find(name=s)\n",
    "    except ValueError:\n",
    "        graph.add_vertex(name=s)    \n",
    "        \n",
    "    try:\n",
    "        graph.vs.find(name=o)\n",
    "    except ValueError:\n",
    "        graph.add_vertex(name=o)\n",
    "        \n",
    "    graph.add_edge(s, o, name=p)\n",
    "    \n",
    "g=rdflib.Graph()\n",
    "g.load('http://dbpedia.org/resource/Bird')\n",
    "\n",
    "graph2 = Graph(directed=True)\n",
    "\n",
    "for s,p,o in g:\n",
    "    try:\n",
    "        graph2.vs.find(name=s)\n",
    "    except ValueError:\n",
    "        graph2.add_vertex(name=s) \n",
    "        \n",
    "    try:\n",
    "        graph2.vs.find(name=o)\n",
    "    except ValueError:\n",
    "        graph2.add_vertex(name=o)\n",
    "        \n",
    "    graph2.add_edge(s, o, name=p)"
   ]
  },
  {
   "cell_type": "code",
   "execution_count": null,
   "metadata": {},
   "outputs": [],
   "source": [
    "plot(graph, layout=None, \n",
    "     vertex_label=[vertex.attributes()['name'].split('/')[-1].encode('utf-8') for vertex in graph.vs],\n",
    "     vertex_label_size=4, \n",
    "     edge_label=[edge.attributes()['name'].split('/')[-1].encode('utf-8') for edge in graph.es],\n",
    "     edge_label_size=4)"
   ]
  },
  {
   "cell_type": "code",
   "execution_count": null,
   "metadata": {
    "collapsed": true
   },
   "outputs": [],
   "source": [
    "plot(graph2, layout=None, \n",
    "     vertex_label=[vertex.attributes()['name'].split('/')[-1].encode('utf-8') for vertex in graph2.vs],\n",
    "     vertex_label_size=4, \n",
    "     edge_label=[edge.attributes()['name'].split('/')[-1].encode('utf-8') for edge in graph2.es],\n",
    "     edge_label_size=4)"
   ]
  },
  {
   "cell_type": "code",
   "execution_count": 5,
   "metadata": {},
   "outputs": [],
   "source": [
    "def named_intersect(graph1, graph2):\n",
    "    A = graph1.copy()\n",
    "    B = graph2.copy() # so removed vertices don't affect original graphs\n",
    "    Anams = set(A.vs['name'])\n",
    "    Bnams = set(B.vs['name'])\n",
    "    A.delete_vertices(Anams - Bnams)\n",
    "    B.delete_vertices(Bnams - Anams)\n",
    "    nams = sorted(Anams & Bnams)\n",
    "#     Aind = [nams.index(nm) for nm in A.vs['name']]\n",
    "#     Bind = [nams.index(nm) for nm in B.vs['name']]\n",
    "#     A = A.permute_vertices(Aind)\n",
    "#     B = B.permute_vertices(Bind)\n",
    "    Z = A & B\n",
    "    Z.vs['name'] = nams\n",
    "    return Z"
   ]
  },
  {
   "cell_type": "code",
   "execution_count": 6,
   "metadata": {},
   "outputs": [
    {
     "data": {
      "image/svg+xml": [
       "<?xml version=\"1.0\" encoding=\"UTF-8\"?>\n",
       "<svg xmlns=\"http://www.w3.org/2000/svg\" xmlns:xlink=\"http://www.w3.org/1999/xlink\" width=\"600pt\" height=\"600pt\" viewBox=\"0 0 600 600\" version=\"1.1\">\n",
       "<g id=\"surface6\">\n",
       "<rect x=\"0\" y=\"0\" width=\"600\" height=\"600\" style=\"fill:rgb(100%,100%,100%);fill-opacity:1;stroke:none;\"/>\n",
       "<path style=\"fill-rule:nonzero;fill:rgb(100%,0%,0%);fill-opacity:1;stroke-width:1;stroke-linecap:butt;stroke-linejoin:miter;stroke:rgb(0%,0%,0%);stroke-opacity:1;stroke-miterlimit:10;\" d=\"M 358.132812 580 C 358.132812 585.523438 353.652344 590 348.132812 590 C 342.609375 590 338.132812 585.523438 338.132812 580 C 338.132812 574.476562 342.609375 570 348.132812 570 C 353.652344 570 358.132812 574.476562 358.132812 580 \"/>\n",
       "<path style=\"fill-rule:nonzero;fill:rgb(100%,0%,0%);fill-opacity:1;stroke-width:1;stroke-linecap:butt;stroke-linejoin:miter;stroke:rgb(0%,0%,0%);stroke-opacity:1;stroke-miterlimit:10;\" d=\"M 590 251.867188 C 590 257.390625 585.523438 261.867188 580 261.867188 C 574.476562 261.867188 570 257.390625 570 251.867188 C 570 246.347656 574.476562 241.867188 580 241.867188 C 585.523438 241.867188 590 246.347656 590 251.867188 \"/>\n",
       "<path style=\"fill-rule:nonzero;fill:rgb(100%,0%,0%);fill-opacity:1;stroke-width:1;stroke-linecap:butt;stroke-linejoin:miter;stroke:rgb(0%,0%,0%);stroke-opacity:1;stroke-miterlimit:10;\" d=\"M 261.867188 20 C 261.867188 25.523438 257.390625 30 251.867188 30 C 246.347656 30 241.867188 25.523438 241.867188 20 C 241.867188 14.476562 246.347656 10 251.867188 10 C 257.390625 10 261.867188 14.476562 261.867188 20 \"/>\n",
       "<path style=\"fill-rule:nonzero;fill:rgb(100%,0%,0%);fill-opacity:1;stroke-width:1;stroke-linecap:butt;stroke-linejoin:miter;stroke:rgb(0%,0%,0%);stroke-opacity:1;stroke-miterlimit:10;\" d=\"M 30 348.132812 C 30 353.652344 25.523438 358.132812 20 358.132812 C 14.476562 358.132812 10 353.652344 10 348.132812 C 10 342.609375 14.476562 338.132812 20 338.132812 C 25.523438 338.132812 30 342.609375 30 348.132812 \"/>\n",
       "</g>\n",
       "</svg>\n"
      ],
      "text/plain": [
       "<igraph.drawing.Plot at 0x7fe7cdadb590>"
      ]
     },
     "execution_count": 6,
     "metadata": {},
     "output_type": "execute_result"
    }
   ],
   "source": [
    "plot(named_intersect(graph, graph2))"
   ]
  },
  {
   "cell_type": "code",
   "execution_count": null,
   "metadata": {
    "collapsed": true
   },
   "outputs": [],
   "source": []
  }
 ],
 "metadata": {
  "kernelspec": {
   "display_name": "Python 2",
   "language": "python",
   "name": "python2"
  },
  "language_info": {
   "codemirror_mode": {
    "name": "ipython",
    "version": 2
   },
   "file_extension": ".py",
   "mimetype": "text/x-python",
   "name": "python",
   "nbconvert_exporter": "python",
   "pygments_lexer": "ipython2",
   "version": "2.7.12"
  }
 },
 "nbformat": 4,
 "nbformat_minor": 2
}
