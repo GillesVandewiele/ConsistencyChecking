{
 "cells": [
  {
   "cell_type": "code",
   "execution_count": 30,
   "metadata": {},
   "outputs": [],
   "source": [
    "import rdflib\n",
    "import networkx as nx\n",
    "import numpy as np\n",
    "%matplotlib inline"
   ]
  },
  {
   "cell_type": "code",
   "execution_count": 123,
   "metadata": {},
   "outputs": [],
   "source": [
    "graph1 = nx.DiGraph()\n",
    "g=rdflib.Graph()\n",
    "g.load('DUL.owl')\n",
    "for s,p,o in g:    \n",
    "    graph1.add_edge(s, o, name=p)\n",
    "\n",
    "\n",
    "graph2 = nx.DiGraph()\n",
    "g=rdflib.Graph()\n",
    "g.load('http://dbpedia.org/resource/Abraham_Lincoln')\n",
    "for s,p,o in g:      \n",
    "    graph2.add_edge(s, o, name=p)"
   ]
  },
  {
   "cell_type": "code",
   "execution_count": 127,
   "metadata": {},
   "outputs": [
    {
     "name": "stdout",
     "output_type": "stream",
     "text": [
      "set([(u'http://www.w3.org/2000/01/rdf-schema#comment',), (u'http://www.w3.org/1999/02/22-rdf-syntax-ns#type',), (u'http://www.w3.org/2000/01/rdf-schema#label',)])\n"
     ]
    }
   ],
   "source": [
    "set1=set(map(tuple, np.array(graph1.edges(data='name'))[:, 2:].tolist()))\n",
    "set2=set(map(tuple, np.array(graph2.edges(data='name'))[:, 2:].tolist()))\n",
    "print(set1.intersection(set2))"
   ]
  },
  {
   "cell_type": "code",
   "execution_count": 88,
   "metadata": {},
   "outputs": [
    {
     "name": "stdout",
     "output_type": "stream",
     "text": [
      "[('test', 'test2', 'test_prop'), ('test5', 'test2', 'test_prop2'), ('test18545231', 'test2', 'test_prop3')]\n",
      "[('test', 'test2', 'test_prop2'), ('test3', 'test2', 'test_prop3')]\n",
      "set([(u'http://dbpedia.org/resource/Abraham_Lincoln', u'http://dbpedia.org/ontology/guest'), (u'http://ja.dbpedia.org/resource/\\u30a8\\u30a4\\u30d6\\u30e9\\u30cf\\u30e0\\u30fb\\u30ea\\u30f3\\u30ab\\u30fc\\u30f3', u'http://www.w3.org/2002/07/owl#sameAs'), (u'http://dbpedia.org/class/yago/WikicatRepublicanParty(UnitedStates)Politicians', u'http://www.w3.org/1999/02/22-rdf-syntax-ns#type'), (u'http://dbpedia.org/resource/Abraham_Lincoln', u'http://dbpedia.org/property/spouse'), (u'http://dbpedia.org/class/yago/WikicatPresidentsOfTheUnitedStates', u'http://www.w3.org/1999/02/22-rdf-syntax-ns#type'), (u'Abraham Lincoln', u'http://www.w3.org/2000/01/rdf-schema#label'), (u'http://dbpedia.org/resource/Abraham_Lincoln', u'http://dbpedia.org/ontology/author'), (u'Abraham Lincoln 1862 signature.svg', u'http://dbpedia.org/ontology/signature'), (u'7', u'http://dbpedia.org/property/district'), (u'http://dbpedia.org/resource/Abraham_Lincoln', u'http://dbpedia.org/ontology/commander'), (u'http://dbpedia.org/resource/Abraham_Lincoln', u'http://dbpedia.org/property/serviceyears'), (u'http://umbel.org/umbel/rc/PersonWithOccupation', u'http://www.w3.org/1999/02/22-rdf-syntax-ns#type'), (u'http://dbpedia.org/resource/Abraham_Lincoln', u'http://dbpedia.org/ontology/termPeriod'), (u'http://wikidata.dbpedia.org/resource/Q91', u'http://www.w3.org/2002/07/owl#sameAs'), (u'http://dbpedia.org/resource/Category:People_with_mood_disorders', u'http://purl.org/dc/terms/subject'), (u'http://dbpedia.org/resource/Abraham_Lincoln', u'http://dbpedia.org/ontology/birthPlace'), (u'http://dbpedia.org/resource/Abraham_Lincoln', u'http://www.w3.org/ns/prov#wasDerivedFrom'), (u'http://dbpedia.org/resource/Washington,_D.C.', u'http://dbpedia.org/ontology/deathPlace'), (u'http://dbpedia.org/class/yago/Postmaster110459575', u'http://www.w3.org/1999/02/22-rdf-syntax-ns#type'), (u'http://dbpedia.org/resource/Abraham_Lincoln', u'http://dbpedia.org/ontology/wikiPageExternalLink'), (u'http://dbpedia.org/resource/Category:Burials_at_Oak_Ridge_Cemetery', u'http://purl.org/dc/terms/subject'), (u'http://dbpedia.org/resource/Abraham_Lincoln', u'http://www.w3.org/2000/01/rdf-schema#comment'), (u'http://dbpedia.org/class/yago/WikicatAmericanPostmasters', u'http://www.w3.org/1999/02/22-rdf-syntax-ns#type'), (u'http://dbpedia.org/resource/Abraham_Lincoln', u'http://dbpedia.org/ontology/appointer'), (u'http://dbpedia.org/resource/Abraham_Lincoln', u'http://dbpedia.org/ontology/knownFor'), (u'http://dbpedia.org/resource/John_Alexander_McClernand', u'http://dbpedia.org/ontology/president'), (u'http://dbpedia.org/resource/Abraham_Lincoln', u'http://dbpedia.org/ontology/wikiPageRedirects'), (u'http://www.abrahamlincolnassociation.org/', u'http://dbpedia.org/ontology/wikiPageExternalLink'), (u'http://dbpedia.org/resource/Abraham_Lincoln', u'http://purl.org/dc/terms/subject'), (u'http://dbpedia.org/resource/Abraham_Lincoln', u'http://dbpedia.org/property/wordnet_type'), (u'http://www.ontologydesignpatterns.org/ont/dul/DUL.owl#NaturalPerson', u'http://www.w3.org/1999/02/22-rdf-syntax-ns#type'), (u'http://dbpedia.org/resource/Abraham_Lincoln', u'http://dbpedia.org/ontology/office'), (u'http://dbpedia.org/resource/Battle_of_Malvern_Hill', u'http://dbpedia.org/property/commander'), (u'http://dbpedia.org/class/yago/Survivor110681194', u'http://www.w3.org/1999/02/22-rdf-syntax-ns#type'), (u'http://dbpedia.org/resource/Abraham_Lincoln', u'http://dbpedia.org/property/president'), (u'http://dbpedia.org/class/yago/Professional110480253', u'http://www.w3.org/1999/02/22-rdf-syntax-ns#type'), (u'http://dbpedia.org/class/yago/WikicatPeopleFromKentucky', u'http://www.w3.org/1999/02/22-rdf-syntax-ns#type'), (u'http://dbpedia.org/resource/Abraham_Lincoln', u'http://dbpedia.org/ontology/president'), (u'http://dbpedia.org/resource/Abraham_Lincoln', u'http://dbpedia.org/ontology/militaryRank'), (u'http://dbpedia.org/resource/Abraham_Lincoln', u'http://dbpedia.org/ontology/wikiPageID'), (u'http://dbpedia.org/resource/Abe_licnoln', u'http://dbpedia.org/ontology/wikiPageRedirects'), (u'http://dbpedia.org/resource/Abraham_Lincoln', u'http://dbpedia.org/ontology/restingPlace'), (u'http://dbpedia.org/resource/Abraham_Lincoln', u'http://dbpedia.org/ontology/relative'), (u'http://dbpedia.org/resource/Abraham_Lincoln_(president)', u'http://dbpedia.org/ontology/wikiPageRedirects'), (u'http://muse.jhu.edu/login?auth=0&type=summary&url=/journals/civil_war_history/v050/50.4neely.html', u'http://dbpedia.org/ontology/wikiPageExternalLink'), (u'http://dbpedia.org/resource/Abraham_Lincoln', u'http://dbpedia.org/ontology/orderInOffice'), (u'http://dbpedia.org/resource/Abraham_Lincoln', u'http://www.w3.org/2002/07/owl#sameAs'), (u'http://dbpedia.org/resource/Abraham_Lincoln', u'http://dbpedia.org/property/termStart'), (u'http://dbpedia.org/resource/Category:Deaths_by_firearm_in_Washington,_D.C.', u'http://purl.org/dc/terms/subject'), (u'http://dbpedia.org/resource/The_Lincoln_Conspiracy_(book)', u'http://dbpedia.org/ontology/nonFictionSubject'), (u'http://dbpedia.org/resource/Abraham_Lincoln', u'http://www.w3.org/1999/02/22-rdf-syntax-ns#type'), (u'http://dbpedia.org/resource/Abraham_Lincoln', u'http://dbpedia.org/property/party'), (u'http://dbpedia.org/resource/Great_Emancipator', u'http://dbpedia.org/ontology/wikiPageRedirects'), (u'http://dbpedia.org/class/yago/CausalAgent100007347', u'http://www.w3.org/1999/02/22-rdf-syntax-ns#type'), (u'http://dbpedia.org/resource/Abraham_Lincoln', u'http://dbpedia.org/property/deathPlace'), (u'http://dbpedia.org/resource/Abraham_Lincoln', u'http://dbpedia.org/ontology/child'), (u'http://dbpedia.org/resource/Thomas_Paine', u'http://dbpedia.org/ontology/influenced'), (u'http://dbpedia.org/resource/Abraham_Lincoln', u'http://dbpedia.org/property/rank'), (u'http://dbpedia.org/resource/Abraham_Lincoln', u'http://dbpedia.org/property/birthPlace'), (u'http://dbpedia.org/resource/Lincoln_and_Darwin', u'http://dbpedia.org/ontology/nonFictionSubject'), (u'http://dbpedia.org/resource/Category:People_from_Coles_County,_Illinois', u'http://purl.org/dc/terms/subject'), (u'http://dbpedia.org/resource/Abraham_Lincoln', u'http://dbpedia.org/property/restingplace'), (u'http://dbpedia.org/resource/Abraham_Lincoln', u'http://dbpedia.org/ontology/abstract'), (u'http://dbpedia.org/resource/Abraham_Lincoln', u'http://www.w3.org/2000/01/rdf-schema#label'), (u'http://dbpedia.org/resource/Abraham_Lincoln', u'http://dbpedia.org/property/office')])\n"
     ]
    }
   ],
   "source": [
    "graph3 = nx.DiGraph()\n",
    "graph3.add_edge(u='test',v='test2',name='test_prop')\n",
    "graph3.add_edge(u='test18545231',v='test2',name='test_prop3')\n",
    "graph3.add_edge(u='test5',v='test2',name='test_prop2')\n",
    "\n",
    "\n",
    "graph4 = nx.DiGraph()\n",
    "graph4.add_edge('test','test2',name='test_prop2')\n",
    "graph4.add_edge('test3','test2',name='test_prop3')\n",
    "\n",
    "print(graph3.edges(data='name'))\n",
    "print(graph4.edges(data='name'))\n",
    "\n",
    "\n",
    "set1=set(map(tuple, np.array(graph1.edges(data='name'))[:, 1:].tolist()))\n",
    "set2=set(map(tuple, np.array(graph2.edges(data='name'))[:, 1:].tolist()))\n",
    "intersection_edges2 = set1.intersection(set2)\n",
    "print(intersection_edges2)\n",
    "# # print(intersection_edges2)\n",
    "# # print(graph3['test'])\n",
    "# intersection=set()\n",
    "# for edge in intersection_edges2:\n",
    "#     if graph3[edge[0]][edge[1]]==graph4[edge[0]][edge[1]]:\n",
    "#         intersection.add((edge, graph3[edge[0]][edge[1]]['name']))\n",
    "        \n",
    "# print(intersection)"
   ]
  }
 ],
 "metadata": {
  "kernelspec": {
   "display_name": "Python 2",
   "language": "python",
   "name": "python2"
  },
  "language_info": {
   "codemirror_mode": {
    "name": "ipython",
    "version": 2
   },
   "file_extension": ".py",
   "mimetype": "text/x-python",
   "name": "python",
   "nbconvert_exporter": "python",
   "pygments_lexer": "ipython2",
   "version": "2.7.12"
  }
 },
 "nbformat": 4,
 "nbformat_minor": 2
}
